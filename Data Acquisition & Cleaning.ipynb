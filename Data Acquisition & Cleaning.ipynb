{
 "cells": [
  {
   "cell_type": "markdown",
   "metadata": {},
   "source": [
    "# Data Acquisition & Cleaning\n",
    "Author: Brian Tam, 9/27/2020\n",
    "\n",
    "This notebook serves to output a single dataframe with alkl the necessary features to run a linear regression model.\n",
    "\n",
    "### Table of Contents\n",
    "\n",
    "I. [Data Acquisition](#data_acquisition)\n",
    "* [Scraping Pitchfork Album Ratings (V1 Target)](#scraping_pitchfork)\n",
    "* [Track Audio Features from Spotify API (V1 & V2 Features)](#spotify-audio-features)\n",
    "* [Track Popularity from Spotify API (V2 Target)](#spotify-popularity)\n",
    "    \n",
    "II. [Data Cleaning](#data-cleaning)\n",
    "* [Cleaning Pitchfork Album Ratings Data](#clean-pitchfork)\n",
    "    \n",
    "III. [Final Dataset Preparation](#final-data-prep)\n",
    "* [Dataset V1 (for predicting Pitchfork Album Ratings)](#dataset1-prep)\n",
    "    - [Aggregating Track-Level Audio Features to Album-Level Features](#album-features)\n",
    "    - [Merge Album-Level Features with Pitchfork Album Rating Targets](#combine-v1)\n",
    "* [Dataset V2 (for predicting Spotify Track Popularity)](#dataset2-prep)\n",
    "\n",
    "IV. [Post-Analysis Data Additions: Popular Hip-Hop](#more-hiphop)\n",
    "\n",
    "---"
   ]
  },
  {
   "cell_type": "code",
   "execution_count": null,
   "metadata": {},
   "outputs": [],
   "source": []
  },
  {
   "cell_type": "code",
   "execution_count": null,
   "metadata": {},
   "outputs": [],
   "source": []
  },
  {
   "cell_type": "code",
   "execution_count": null,
   "metadata": {},
   "outputs": [],
   "source": []
  },
  {
   "cell_type": "code",
   "execution_count": 2,
   "metadata": {
    "execution": {
     "iopub.execute_input": "2020-09-29T08:05:17.706949Z",
     "iopub.status.busy": "2020-09-29T08:05:17.706694Z",
     "iopub.status.idle": "2020-09-29T08:05:17.712381Z",
     "shell.execute_reply": "2020-09-29T08:05:17.711320Z",
     "shell.execute_reply.started": "2020-09-29T08:05:17.706923Z"
    }
   },
   "outputs": [],
   "source": [
    "from bs4 import BeautifulSoup\n",
    "import requests"
   ]
  },
  {
   "cell_type": "markdown",
   "metadata": {},
   "source": [
    "<h2><a id='data_acquisition'>I. Data Acquisition</a></h2>\n",
    "<h3><a id='scraping_pitchfork'>Scraping Pitchfork Album Ratings (V1 Target)</a></h3>"
   ]
  },
  {
   "cell_type": "code",
   "execution_count": null,
   "metadata": {},
   "outputs": [],
   "source": []
  }
 ],
 "metadata": {
  "kernelspec": {
   "display_name": "Python [conda env:metis] *",
   "language": "python",
   "name": "conda-env-metis-py"
  },
  "language_info": {
   "codemirror_mode": {
    "name": "ipython",
    "version": 3
   },
   "file_extension": ".py",
   "mimetype": "text/x-python",
   "name": "python",
   "nbconvert_exporter": "python",
   "pygments_lexer": "ipython3",
   "version": "3.8.5"
  }
 },
 "nbformat": 4,
 "nbformat_minor": 4
}
